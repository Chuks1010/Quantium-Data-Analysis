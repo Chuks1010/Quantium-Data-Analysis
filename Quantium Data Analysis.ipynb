{
 "cells": [
  {
   "cell_type": "markdown",
   "metadata": {},
   "source": [
    "## Quantium Customer segmentation \n",
    "Using Recency Frequency and Monetary (RFM) analysis to understand customers behaviour\n",
    "\n",
    "This project is aimed at better understanding the types of customers who purchase chips and their purchasing behaviour within the region and provide recommendations for commercial application. Two sets of data were provided for this analysis and they are transaction dataset and purchase behaviour dataset of customers. The features of the dataset are listed below\n",
    "\n",
    "#### Transaction\n",
    "NOTE This is a transactional level data i.e. one row per transaction  and of course there are multiple transactions in a day\n",
    "* date - date of transaction per record\n",
    "* store_nbr - the store number in which a transaction was carried out\n",
    "* lylty_card_nbr - number assigned to commited or regular customers \n",
    "* tnx_id - tax id number\n",
    "* prod_nbr - number assigned to a product\n",
    "* prod_name - name of the product\n",
    "* prod_qty - quantity of products sold per day\n",
    "* tot_sale - sales per transaction\n",
    "\n",
    "#### Purchase Behaviour\n",
    "* lylty_card_nbr - number assigned to commited or regular customers\n",
    "* lifestage - identifies a customers family status and whether they are senior citizens or not\n",
    "* premium_customer - customers purhaing power\n"
   ]
  },
  {
   "cell_type": "code",
   "execution_count": 1,
   "metadata": {},
   "outputs": [],
   "source": [
    "#Importing the required packages for the analysis\n",
    "import pandas as pd\n",
    "import numpy as np\n",
    "import datetime as dt\n",
    "import matplotlib.pyplot as plt"
   ]
  },
  {
   "cell_type": "code",
   "execution_count": 2,
   "metadata": {},
   "outputs": [],
   "source": [
    "#Loading both datasets into pandas \n",
    "trans = pd.read_excel('QVI_transaction_data.xlsx')\n",
    "purchase = pd.read_csv('QVI_purchase_behaviour.csv')"
   ]
  },
  {
   "cell_type": "code",
   "execution_count": 3,
   "metadata": {},
   "outputs": [
    {
     "data": {
      "text/html": [
       "<div>\n",
       "<style scoped>\n",
       "    .dataframe tbody tr th:only-of-type {\n",
       "        vertical-align: middle;\n",
       "    }\n",
       "\n",
       "    .dataframe tbody tr th {\n",
       "        vertical-align: top;\n",
       "    }\n",
       "\n",
       "    .dataframe thead th {\n",
       "        text-align: right;\n",
       "    }\n",
       "</style>\n",
       "<table border=\"1\" class=\"dataframe\">\n",
       "  <thead>\n",
       "    <tr style=\"text-align: right;\">\n",
       "      <th></th>\n",
       "      <th>DATE</th>\n",
       "      <th>STORE_NBR</th>\n",
       "      <th>LYLTY_CARD_NBR</th>\n",
       "      <th>TXN_ID</th>\n",
       "      <th>PROD_NBR</th>\n",
       "      <th>PROD_NAME</th>\n",
       "      <th>PROD_QTY</th>\n",
       "      <th>TOT_SALES</th>\n",
       "    </tr>\n",
       "  </thead>\n",
       "  <tbody>\n",
       "    <tr>\n",
       "      <th>0</th>\n",
       "      <td>2018-10-17</td>\n",
       "      <td>1</td>\n",
       "      <td>1000</td>\n",
       "      <td>1</td>\n",
       "      <td>5</td>\n",
       "      <td>Natural Chip        Compny SeaSalt175g</td>\n",
       "      <td>2</td>\n",
       "      <td>6.0</td>\n",
       "    </tr>\n",
       "    <tr>\n",
       "      <th>1</th>\n",
       "      <td>2019-05-14</td>\n",
       "      <td>1</td>\n",
       "      <td>1307</td>\n",
       "      <td>348</td>\n",
       "      <td>66</td>\n",
       "      <td>CCs Nacho Cheese    175g</td>\n",
       "      <td>3</td>\n",
       "      <td>6.3</td>\n",
       "    </tr>\n",
       "    <tr>\n",
       "      <th>2</th>\n",
       "      <td>2019-05-20</td>\n",
       "      <td>1</td>\n",
       "      <td>1343</td>\n",
       "      <td>383</td>\n",
       "      <td>61</td>\n",
       "      <td>Smiths Crinkle Cut  Chips Chicken 170g</td>\n",
       "      <td>2</td>\n",
       "      <td>2.9</td>\n",
       "    </tr>\n",
       "    <tr>\n",
       "      <th>3</th>\n",
       "      <td>2018-08-17</td>\n",
       "      <td>2</td>\n",
       "      <td>2373</td>\n",
       "      <td>974</td>\n",
       "      <td>69</td>\n",
       "      <td>Smiths Chip Thinly  S/Cream&amp;Onion 175g</td>\n",
       "      <td>5</td>\n",
       "      <td>15.0</td>\n",
       "    </tr>\n",
       "    <tr>\n",
       "      <th>4</th>\n",
       "      <td>2018-08-18</td>\n",
       "      <td>2</td>\n",
       "      <td>2426</td>\n",
       "      <td>1038</td>\n",
       "      <td>108</td>\n",
       "      <td>Kettle Tortilla ChpsHny&amp;Jlpno Chili 150g</td>\n",
       "      <td>3</td>\n",
       "      <td>13.8</td>\n",
       "    </tr>\n",
       "  </tbody>\n",
       "</table>\n",
       "</div>"
      ],
      "text/plain": [
       "        DATE  STORE_NBR  LYLTY_CARD_NBR  TXN_ID  PROD_NBR  \\\n",
       "0 2018-10-17          1            1000       1         5   \n",
       "1 2019-05-14          1            1307     348        66   \n",
       "2 2019-05-20          1            1343     383        61   \n",
       "3 2018-08-17          2            2373     974        69   \n",
       "4 2018-08-18          2            2426    1038       108   \n",
       "\n",
       "                                  PROD_NAME  PROD_QTY  TOT_SALES  \n",
       "0    Natural Chip        Compny SeaSalt175g         2        6.0  \n",
       "1                  CCs Nacho Cheese    175g         3        6.3  \n",
       "2    Smiths Crinkle Cut  Chips Chicken 170g         2        2.9  \n",
       "3    Smiths Chip Thinly  S/Cream&Onion 175g         5       15.0  \n",
       "4  Kettle Tortilla ChpsHny&Jlpno Chili 150g         3       13.8  "
      ]
     },
     "execution_count": 3,
     "metadata": {},
     "output_type": "execute_result"
    }
   ],
   "source": [
    "#Displaying the first  rows or observations\n",
    "trans.head()"
   ]
  },
  {
   "cell_type": "markdown",
   "metadata": {},
   "source": [
    "Looking at the dataset there is need to seperate the text from numbers in the prod_name column so that we have 2 columns made of product name and product size. We will do the seperation just after coverting the column names from upper to lower case"
   ]
  },
  {
   "cell_type": "code",
   "execution_count": 4,
   "metadata": {},
   "outputs": [
    {
     "data": {
      "text/plain": [
       "Index(['date', 'store_nbr', 'lylty_card_nbr', 'txn_id', 'prod_nbr',\n",
       "       'prod_name', 'prod_qty', 'tot_sales'],\n",
       "      dtype='object')"
      ]
     },
     "execution_count": 4,
     "metadata": {},
     "output_type": "execute_result"
    }
   ],
   "source": [
    "#converting the header or column names from upper to lower case\n",
    "trans.columns = map(str.lower, trans.columns)\n",
    "trans.columns"
   ]
  },
  {
   "cell_type": "code",
   "execution_count": 5,
   "metadata": {},
   "outputs": [
    {
     "data": {
      "text/html": [
       "<div>\n",
       "<style scoped>\n",
       "    .dataframe tbody tr th:only-of-type {\n",
       "        vertical-align: middle;\n",
       "    }\n",
       "\n",
       "    .dataframe tbody tr th {\n",
       "        vertical-align: top;\n",
       "    }\n",
       "\n",
       "    .dataframe thead th {\n",
       "        text-align: right;\n",
       "    }\n",
       "</style>\n",
       "<table border=\"1\" class=\"dataframe\">\n",
       "  <thead>\n",
       "    <tr style=\"text-align: right;\">\n",
       "      <th></th>\n",
       "      <th>date</th>\n",
       "      <th>store_nbr</th>\n",
       "      <th>lylty_card_nbr</th>\n",
       "      <th>txn_id</th>\n",
       "      <th>prod_nbr</th>\n",
       "      <th>prod_name</th>\n",
       "      <th>prod_qty</th>\n",
       "      <th>tot_sales</th>\n",
       "      <th>prod_size \"g\"</th>\n",
       "    </tr>\n",
       "  </thead>\n",
       "  <tbody>\n",
       "    <tr>\n",
       "      <th>0</th>\n",
       "      <td>2018-10-17</td>\n",
       "      <td>1</td>\n",
       "      <td>1000</td>\n",
       "      <td>1</td>\n",
       "      <td>5</td>\n",
       "      <td>Natural Chip        Compny SeaSalt</td>\n",
       "      <td>2</td>\n",
       "      <td>6.0</td>\n",
       "      <td>175</td>\n",
       "    </tr>\n",
       "    <tr>\n",
       "      <th>1</th>\n",
       "      <td>2019-05-14</td>\n",
       "      <td>1</td>\n",
       "      <td>1307</td>\n",
       "      <td>348</td>\n",
       "      <td>66</td>\n",
       "      <td>CCs Nacho Cheese</td>\n",
       "      <td>3</td>\n",
       "      <td>6.3</td>\n",
       "      <td>175</td>\n",
       "    </tr>\n",
       "    <tr>\n",
       "      <th>2</th>\n",
       "      <td>2019-05-20</td>\n",
       "      <td>1</td>\n",
       "      <td>1343</td>\n",
       "      <td>383</td>\n",
       "      <td>61</td>\n",
       "      <td>Smiths Crinkle Cut  Chips Chicken</td>\n",
       "      <td>2</td>\n",
       "      <td>2.9</td>\n",
       "      <td>170</td>\n",
       "    </tr>\n",
       "    <tr>\n",
       "      <th>3</th>\n",
       "      <td>2018-08-17</td>\n",
       "      <td>2</td>\n",
       "      <td>2373</td>\n",
       "      <td>974</td>\n",
       "      <td>69</td>\n",
       "      <td>Smiths Chip Thinly  S/Cream&amp;Onion</td>\n",
       "      <td>5</td>\n",
       "      <td>15.0</td>\n",
       "      <td>175</td>\n",
       "    </tr>\n",
       "    <tr>\n",
       "      <th>4</th>\n",
       "      <td>2018-08-18</td>\n",
       "      <td>2</td>\n",
       "      <td>2426</td>\n",
       "      <td>1038</td>\n",
       "      <td>108</td>\n",
       "      <td>Kettle Tortilla ChpsHny&amp;Jlpno Chili</td>\n",
       "      <td>3</td>\n",
       "      <td>13.8</td>\n",
       "      <td>150</td>\n",
       "    </tr>\n",
       "  </tbody>\n",
       "</table>\n",
       "</div>"
      ],
      "text/plain": [
       "        date  store_nbr  lylty_card_nbr  txn_id  prod_nbr  \\\n",
       "0 2018-10-17          1            1000       1         5   \n",
       "1 2019-05-14          1            1307     348        66   \n",
       "2 2019-05-20          1            1343     383        61   \n",
       "3 2018-08-17          2            2373     974        69   \n",
       "4 2018-08-18          2            2426    1038       108   \n",
       "\n",
       "                             prod_name  prod_qty  tot_sales prod_size \"g\"  \n",
       "0   Natural Chip        Compny SeaSalt         2        6.0           175  \n",
       "1                     CCs Nacho Cheese         3        6.3           175  \n",
       "2    Smiths Crinkle Cut  Chips Chicken         2        2.9           170  \n",
       "3    Smiths Chip Thinly  S/Cream&Onion         5       15.0           175  \n",
       "4  Kettle Tortilla ChpsHny&Jlpno Chili         3       13.8           150  "
      ]
     },
     "execution_count": 5,
     "metadata": {},
     "output_type": "execute_result"
    }
   ],
   "source": [
    "# stripping the size from the prod_name column and creating a new column with the prod_size in grams\n",
    "trans['prod_size \"g\"'] = trans['prod_name'].str.strip(r'\\d+')\n",
    "trans['prod_size \"g\"'].replace(r'[A-Za-z\\D+]', '', regex=True, inplace=True)\n",
    "trans['prod_name'].replace(r'\\d+\\w', '', regex=True, inplace=True)\n",
    "trans['prod_name'] = trans['prod_name'].str.strip()\n",
    "trans.head()"
   ]
  },
  {
   "cell_type": "code",
   "execution_count": 6,
   "metadata": {},
   "outputs": [],
   "source": [
    "# Reodering the columns\n",
    "trans = trans[['date', 'store_nbr', 'lylty_card_nbr', 'txn_id', 'prod_nbr', 'prod_name', 'prod_size \"g\"', 'prod_qty', \n",
    "               'tot_sales']]"
   ]
  },
  {
   "cell_type": "code",
   "execution_count": 7,
   "metadata": {},
   "outputs": [
    {
     "data": {
      "text/html": [
       "<div>\n",
       "<style scoped>\n",
       "    .dataframe tbody tr th:only-of-type {\n",
       "        vertical-align: middle;\n",
       "    }\n",
       "\n",
       "    .dataframe tbody tr th {\n",
       "        vertical-align: top;\n",
       "    }\n",
       "\n",
       "    .dataframe thead th {\n",
       "        text-align: right;\n",
       "    }\n",
       "</style>\n",
       "<table border=\"1\" class=\"dataframe\">\n",
       "  <thead>\n",
       "    <tr style=\"text-align: right;\">\n",
       "      <th></th>\n",
       "      <th>date</th>\n",
       "      <th>store_nbr</th>\n",
       "      <th>lylty_card_nbr</th>\n",
       "      <th>txn_id</th>\n",
       "      <th>prod_nbr</th>\n",
       "      <th>prod_name</th>\n",
       "      <th>prod_size \"g\"</th>\n",
       "      <th>prod_qty</th>\n",
       "      <th>tot_sales</th>\n",
       "    </tr>\n",
       "  </thead>\n",
       "  <tbody>\n",
       "    <tr>\n",
       "      <th>124845</th>\n",
       "      <td>2018-10-01</td>\n",
       "      <td>107</td>\n",
       "      <td>107024</td>\n",
       "      <td>108462</td>\n",
       "      <td>45</td>\n",
       "      <td>Smiths Thinly Cut   Roast Chicken</td>\n",
       "      <td>175</td>\n",
       "      <td>2</td>\n",
       "      <td>6.0</td>\n",
       "    </tr>\n",
       "  </tbody>\n",
       "</table>\n",
       "</div>"
      ],
      "text/plain": [
       "             date  store_nbr  lylty_card_nbr  txn_id  prod_nbr  \\\n",
       "124845 2018-10-01        107          107024  108462        45   \n",
       "\n",
       "                                prod_name prod_size \"g\"  prod_qty  tot_sales  \n",
       "124845  Smiths Thinly Cut   Roast Chicken           175         2        6.0  "
      ]
     },
     "execution_count": 7,
     "metadata": {},
     "output_type": "execute_result"
    }
   ],
   "source": [
    "#Checking for duplicates\n",
    "trans[trans[['date', 'store_nbr', 'lylty_card_nbr', 'txn_id', 'prod_nbr', 'prod_name', 'prod_size \"g\"', 'prod_qty', \n",
    "               'tot_sales']].duplicated() == True]"
   ]
  },
  {
   "cell_type": "code",
   "execution_count": 8,
   "metadata": {},
   "outputs": [
    {
     "data": {
      "text/html": [
       "<div>\n",
       "<style scoped>\n",
       "    .dataframe tbody tr th:only-of-type {\n",
       "        vertical-align: middle;\n",
       "    }\n",
       "\n",
       "    .dataframe tbody tr th {\n",
       "        vertical-align: top;\n",
       "    }\n",
       "\n",
       "    .dataframe thead th {\n",
       "        text-align: right;\n",
       "    }\n",
       "</style>\n",
       "<table border=\"1\" class=\"dataframe\">\n",
       "  <thead>\n",
       "    <tr style=\"text-align: right;\">\n",
       "      <th></th>\n",
       "      <th>date</th>\n",
       "      <th>store_nbr</th>\n",
       "      <th>lylty_card_nbr</th>\n",
       "      <th>txn_id</th>\n",
       "      <th>prod_nbr</th>\n",
       "      <th>prod_name</th>\n",
       "      <th>prod_size \"g\"</th>\n",
       "      <th>prod_qty</th>\n",
       "      <th>tot_sales</th>\n",
       "    </tr>\n",
       "  </thead>\n",
       "  <tbody>\n",
       "    <tr>\n",
       "      <th>124843</th>\n",
       "      <td>2018-10-01</td>\n",
       "      <td>107</td>\n",
       "      <td>107024</td>\n",
       "      <td>108462</td>\n",
       "      <td>45</td>\n",
       "      <td>Smiths Thinly Cut   Roast Chicken</td>\n",
       "      <td>175</td>\n",
       "      <td>2</td>\n",
       "      <td>6.0</td>\n",
       "    </tr>\n",
       "    <tr>\n",
       "      <th>124845</th>\n",
       "      <td>2018-10-01</td>\n",
       "      <td>107</td>\n",
       "      <td>107024</td>\n",
       "      <td>108462</td>\n",
       "      <td>45</td>\n",
       "      <td>Smiths Thinly Cut   Roast Chicken</td>\n",
       "      <td>175</td>\n",
       "      <td>2</td>\n",
       "      <td>6.0</td>\n",
       "    </tr>\n",
       "  </tbody>\n",
       "</table>\n",
       "</div>"
      ],
      "text/plain": [
       "             date  store_nbr  lylty_card_nbr  txn_id  prod_nbr  \\\n",
       "124843 2018-10-01        107          107024  108462        45   \n",
       "124845 2018-10-01        107          107024  108462        45   \n",
       "\n",
       "                                prod_name prod_size \"g\"  prod_qty  tot_sales  \n",
       "124843  Smiths Thinly Cut   Roast Chicken           175         2        6.0  \n",
       "124845  Smiths Thinly Cut   Roast Chicken           175         2        6.0  "
      ]
     },
     "execution_count": 8,
     "metadata": {},
     "output_type": "execute_result"
    }
   ],
   "source": [
    "trans[trans.duplicated(keep=False)]"
   ]
  },
  {
   "cell_type": "code",
   "execution_count": 9,
   "metadata": {},
   "outputs": [],
   "source": [
    "trans.drop_duplicates(keep=False, inplace=True)"
   ]
  },
  {
   "cell_type": "code",
   "execution_count": 10,
   "metadata": {},
   "outputs": [
    {
     "data": {
      "text/html": [
       "<div>\n",
       "<style scoped>\n",
       "    .dataframe tbody tr th:only-of-type {\n",
       "        vertical-align: middle;\n",
       "    }\n",
       "\n",
       "    .dataframe tbody tr th {\n",
       "        vertical-align: top;\n",
       "    }\n",
       "\n",
       "    .dataframe thead th {\n",
       "        text-align: right;\n",
       "    }\n",
       "</style>\n",
       "<table border=\"1\" class=\"dataframe\">\n",
       "  <thead>\n",
       "    <tr style=\"text-align: right;\">\n",
       "      <th></th>\n",
       "      <th>date</th>\n",
       "      <th>store_nbr</th>\n",
       "      <th>lylty_card_nbr</th>\n",
       "      <th>txn_id</th>\n",
       "      <th>prod_nbr</th>\n",
       "      <th>prod_name</th>\n",
       "      <th>prod_size \"g\"</th>\n",
       "      <th>prod_qty</th>\n",
       "      <th>tot_sales</th>\n",
       "    </tr>\n",
       "  </thead>\n",
       "  <tbody>\n",
       "  </tbody>\n",
       "</table>\n",
       "</div>"
      ],
      "text/plain": [
       "Empty DataFrame\n",
       "Columns: [date, store_nbr, lylty_card_nbr, txn_id, prod_nbr, prod_name, prod_size \"g\", prod_qty, tot_sales]\n",
       "Index: []"
      ]
     },
     "execution_count": 10,
     "metadata": {},
     "output_type": "execute_result"
    }
   ],
   "source": [
    "trans[trans.duplicated(keep=False)]"
   ]
  },
  {
   "cell_type": "markdown",
   "metadata": {},
   "source": [
    "A record has duplicate i.e. occured twice and one of the occurence was dropped"
   ]
  },
  {
   "cell_type": "code",
   "execution_count": 11,
   "metadata": {},
   "outputs": [
    {
     "data": {
      "text/plain": [
       "date              0\n",
       "store_nbr         0\n",
       "lylty_card_nbr    0\n",
       "txn_id            0\n",
       "prod_nbr          0\n",
       "prod_name         0\n",
       "prod_size \"g\"     0\n",
       "prod_qty          0\n",
       "tot_sales         0\n",
       "dtype: int64"
      ]
     },
     "execution_count": 11,
     "metadata": {},
     "output_type": "execute_result"
    }
   ],
   "source": [
    "#Checking if there are null values in the trans dataset\n",
    "trans.isnull().sum()"
   ]
  },
  {
   "cell_type": "markdown",
   "metadata": {},
   "source": [
    "There are no null values in the transaction dataset. Lets go ahead to load and display the purchase behaviour dataset"
   ]
  },
  {
   "cell_type": "code",
   "execution_count": 12,
   "metadata": {},
   "outputs": [
    {
     "data": {
      "text/html": [
       "<div>\n",
       "<style scoped>\n",
       "    .dataframe tbody tr th:only-of-type {\n",
       "        vertical-align: middle;\n",
       "    }\n",
       "\n",
       "    .dataframe tbody tr th {\n",
       "        vertical-align: top;\n",
       "    }\n",
       "\n",
       "    .dataframe thead th {\n",
       "        text-align: right;\n",
       "    }\n",
       "</style>\n",
       "<table border=\"1\" class=\"dataframe\">\n",
       "  <thead>\n",
       "    <tr style=\"text-align: right;\">\n",
       "      <th></th>\n",
       "      <th>LYLTY_CARD_NBR</th>\n",
       "      <th>LIFESTAGE</th>\n",
       "      <th>PREMIUM_CUSTOMER</th>\n",
       "    </tr>\n",
       "  </thead>\n",
       "  <tbody>\n",
       "    <tr>\n",
       "      <th>0</th>\n",
       "      <td>1000</td>\n",
       "      <td>YOUNG SINGLES/COUPLES</td>\n",
       "      <td>Premium</td>\n",
       "    </tr>\n",
       "    <tr>\n",
       "      <th>1</th>\n",
       "      <td>1002</td>\n",
       "      <td>YOUNG SINGLES/COUPLES</td>\n",
       "      <td>Mainstream</td>\n",
       "    </tr>\n",
       "    <tr>\n",
       "      <th>2</th>\n",
       "      <td>1003</td>\n",
       "      <td>YOUNG FAMILIES</td>\n",
       "      <td>Budget</td>\n",
       "    </tr>\n",
       "    <tr>\n",
       "      <th>3</th>\n",
       "      <td>1004</td>\n",
       "      <td>OLDER SINGLES/COUPLES</td>\n",
       "      <td>Mainstream</td>\n",
       "    </tr>\n",
       "    <tr>\n",
       "      <th>4</th>\n",
       "      <td>1005</td>\n",
       "      <td>MIDAGE SINGLES/COUPLES</td>\n",
       "      <td>Mainstream</td>\n",
       "    </tr>\n",
       "  </tbody>\n",
       "</table>\n",
       "</div>"
      ],
      "text/plain": [
       "   LYLTY_CARD_NBR               LIFESTAGE PREMIUM_CUSTOMER\n",
       "0            1000   YOUNG SINGLES/COUPLES          Premium\n",
       "1            1002   YOUNG SINGLES/COUPLES       Mainstream\n",
       "2            1003          YOUNG FAMILIES           Budget\n",
       "3            1004   OLDER SINGLES/COUPLES       Mainstream\n",
       "4            1005  MIDAGE SINGLES/COUPLES       Mainstream"
      ]
     },
     "execution_count": 12,
     "metadata": {},
     "output_type": "execute_result"
    }
   ],
   "source": [
    "#Displaying the first 5 records of the purchase dataset\n",
    "purchase.head()"
   ]
  },
  {
   "cell_type": "code",
   "execution_count": 13,
   "metadata": {},
   "outputs": [
    {
     "data": {
      "text/plain": [
       "Index(['lylty_card_nbr', 'lifestage', 'premium_customer'], dtype='object')"
      ]
     },
     "execution_count": 13,
     "metadata": {},
     "output_type": "execute_result"
    }
   ],
   "source": [
    "#Converting column names from upper to lower case in purchase dataset\n",
    "purchase.columns = map(str.lower, purchase.columns)\n",
    "purchase.columns"
   ]
  },
  {
   "cell_type": "code",
   "execution_count": 14,
   "metadata": {},
   "outputs": [
    {
     "data": {
      "text/plain": [
       "lylty_card_nbr      0\n",
       "lifestage           0\n",
       "premium_customer    0\n",
       "dtype: int64"
      ]
     },
     "execution_count": 14,
     "metadata": {},
     "output_type": "execute_result"
    }
   ],
   "source": [
    "#Checking for null values in the purchase dataset\n",
    "purchase.isnull().sum()"
   ]
  },
  {
   "cell_type": "markdown",
   "metadata": {},
   "source": [
    "There are also no null values in the purchase dataset. We can now join the dataset on the column that is common to both dataset"
   ]
  },
  {
   "cell_type": "code",
   "execution_count": 15,
   "metadata": {},
   "outputs": [
    {
     "name": "stdout",
     "output_type": "stream",
     "text": [
      "(72637, 3)\n",
      "(264834, 9)\n",
      "(264834, 11)\n"
     ]
    }
   ],
   "source": [
    "#Combining transaction and purchase behaviour datasets and dispaying their shapes\n",
    "comb = pd.merge(trans, purchase, on='lylty_card_nbr')\n",
    "print(purchase.shape)\n",
    "print(trans.shape)\n",
    "print(comb.shape)"
   ]
  },
  {
   "cell_type": "markdown",
   "metadata": {},
   "source": [
    "The combined dataset is has thesame number of columns as the dataset with the most observation indicating that no new column was added in the course of the combination or merging. From the merger performed every record in the transaction dataset was mapped to their respective purchase based on the 'lylty_card_nbr' column i.e. the individual that made the purchase. "
   ]
  },
  {
   "cell_type": "code",
   "execution_count": 16,
   "metadata": {},
   "outputs": [
    {
     "data": {
      "text/html": [
       "<div>\n",
       "<style scoped>\n",
       "    .dataframe tbody tr th:only-of-type {\n",
       "        vertical-align: middle;\n",
       "    }\n",
       "\n",
       "    .dataframe tbody tr th {\n",
       "        vertical-align: top;\n",
       "    }\n",
       "\n",
       "    .dataframe thead th {\n",
       "        text-align: right;\n",
       "    }\n",
       "</style>\n",
       "<table border=\"1\" class=\"dataframe\">\n",
       "  <thead>\n",
       "    <tr style=\"text-align: right;\">\n",
       "      <th></th>\n",
       "      <th>date</th>\n",
       "      <th>store_nbr</th>\n",
       "      <th>lylty_card_nbr</th>\n",
       "      <th>txn_id</th>\n",
       "      <th>prod_nbr</th>\n",
       "      <th>prod_name</th>\n",
       "      <th>prod_size \"g\"</th>\n",
       "      <th>prod_qty</th>\n",
       "      <th>tot_sales</th>\n",
       "      <th>lifestage</th>\n",
       "      <th>premium_customer</th>\n",
       "    </tr>\n",
       "  </thead>\n",
       "  <tbody>\n",
       "    <tr>\n",
       "      <th>0</th>\n",
       "      <td>2018-10-17</td>\n",
       "      <td>1</td>\n",
       "      <td>1000</td>\n",
       "      <td>1</td>\n",
       "      <td>5</td>\n",
       "      <td>Natural Chip        Compny SeaSalt</td>\n",
       "      <td>175</td>\n",
       "      <td>2</td>\n",
       "      <td>6.0</td>\n",
       "      <td>YOUNG SINGLES/COUPLES</td>\n",
       "      <td>Premium</td>\n",
       "    </tr>\n",
       "    <tr>\n",
       "      <th>1</th>\n",
       "      <td>2019-05-14</td>\n",
       "      <td>1</td>\n",
       "      <td>1307</td>\n",
       "      <td>348</td>\n",
       "      <td>66</td>\n",
       "      <td>CCs Nacho Cheese</td>\n",
       "      <td>175</td>\n",
       "      <td>3</td>\n",
       "      <td>6.3</td>\n",
       "      <td>MIDAGE SINGLES/COUPLES</td>\n",
       "      <td>Budget</td>\n",
       "    </tr>\n",
       "    <tr>\n",
       "      <th>2</th>\n",
       "      <td>2018-11-10</td>\n",
       "      <td>1</td>\n",
       "      <td>1307</td>\n",
       "      <td>346</td>\n",
       "      <td>96</td>\n",
       "      <td>WW Original Stacked Chips</td>\n",
       "      <td>160</td>\n",
       "      <td>2</td>\n",
       "      <td>3.8</td>\n",
       "      <td>MIDAGE SINGLES/COUPLES</td>\n",
       "      <td>Budget</td>\n",
       "    </tr>\n",
       "    <tr>\n",
       "      <th>3</th>\n",
       "      <td>2019-03-09</td>\n",
       "      <td>1</td>\n",
       "      <td>1307</td>\n",
       "      <td>347</td>\n",
       "      <td>54</td>\n",
       "      <td>CCs Original</td>\n",
       "      <td>175</td>\n",
       "      <td>1</td>\n",
       "      <td>2.1</td>\n",
       "      <td>MIDAGE SINGLES/COUPLES</td>\n",
       "      <td>Budget</td>\n",
       "    </tr>\n",
       "    <tr>\n",
       "      <th>4</th>\n",
       "      <td>2019-05-20</td>\n",
       "      <td>1</td>\n",
       "      <td>1343</td>\n",
       "      <td>383</td>\n",
       "      <td>61</td>\n",
       "      <td>Smiths Crinkle Cut  Chips Chicken</td>\n",
       "      <td>170</td>\n",
       "      <td>2</td>\n",
       "      <td>2.9</td>\n",
       "      <td>MIDAGE SINGLES/COUPLES</td>\n",
       "      <td>Budget</td>\n",
       "    </tr>\n",
       "  </tbody>\n",
       "</table>\n",
       "</div>"
      ],
      "text/plain": [
       "        date  store_nbr  lylty_card_nbr  txn_id  prod_nbr  \\\n",
       "0 2018-10-17          1            1000       1         5   \n",
       "1 2019-05-14          1            1307     348        66   \n",
       "2 2018-11-10          1            1307     346        96   \n",
       "3 2019-03-09          1            1307     347        54   \n",
       "4 2019-05-20          1            1343     383        61   \n",
       "\n",
       "                            prod_name prod_size \"g\"  prod_qty  tot_sales  \\\n",
       "0  Natural Chip        Compny SeaSalt           175         2        6.0   \n",
       "1                    CCs Nacho Cheese           175         3        6.3   \n",
       "2           WW Original Stacked Chips           160         2        3.8   \n",
       "3                        CCs Original           175         1        2.1   \n",
       "4   Smiths Crinkle Cut  Chips Chicken           170         2        2.9   \n",
       "\n",
       "                lifestage premium_customer  \n",
       "0   YOUNG SINGLES/COUPLES          Premium  \n",
       "1  MIDAGE SINGLES/COUPLES           Budget  \n",
       "2  MIDAGE SINGLES/COUPLES           Budget  \n",
       "3  MIDAGE SINGLES/COUPLES           Budget  \n",
       "4  MIDAGE SINGLES/COUPLES           Budget  "
      ]
     },
     "execution_count": 16,
     "metadata": {},
     "output_type": "execute_result"
    }
   ],
   "source": [
    "# combined dataset\n",
    "comb.head()"
   ]
  },
  {
   "cell_type": "code",
   "execution_count": 17,
   "metadata": {},
   "outputs": [
    {
     "name": "stdout",
     "output_type": "stream",
     "text": [
      "<class 'pandas.core.frame.DataFrame'>\n",
      "Int64Index: 264834 entries, 0 to 264833\n",
      "Data columns (total 11 columns):\n",
      " #   Column            Non-Null Count   Dtype         \n",
      "---  ------            --------------   -----         \n",
      " 0   date              264834 non-null  datetime64[ns]\n",
      " 1   store_nbr         264834 non-null  int64         \n",
      " 2   lylty_card_nbr    264834 non-null  int64         \n",
      " 3   txn_id            264834 non-null  int64         \n",
      " 4   prod_nbr          264834 non-null  int64         \n",
      " 5   prod_name         264834 non-null  object        \n",
      " 6   prod_size \"g\"     264834 non-null  object        \n",
      " 7   prod_qty          264834 non-null  int64         \n",
      " 8   tot_sales         264834 non-null  float64       \n",
      " 9   lifestage         264834 non-null  object        \n",
      " 10  premium_customer  264834 non-null  object        \n",
      "dtypes: datetime64[ns](1), float64(1), int64(5), object(4)\n",
      "memory usage: 24.2+ MB\n"
     ]
    }
   ],
   "source": [
    "comb.info()"
   ]
  },
  {
   "cell_type": "markdown",
   "metadata": {},
   "source": [
    "The combined dataset has a total of 11 features comprising of 1 datetime, 1 float, 5 int and 4 objects data types. All features has a total of 264834 entries. The data in one of the derived features 'prod_size \"g\"' is of data type string even though they are numbers. The data type of this column will to be converted to int data type."
   ]
  },
  {
   "cell_type": "code",
   "execution_count": 18,
   "metadata": {},
   "outputs": [],
   "source": [
    "#Converting 'prod_size \"g\"' to int data type\n",
    "comb['prod_size \"g\"'] = pd.to_numeric(comb['prod_size \"g\"'], errors='coerce').astype('int64')"
   ]
  },
  {
   "cell_type": "code",
   "execution_count": 19,
   "metadata": {},
   "outputs": [
    {
     "name": "stdout",
     "output_type": "stream",
     "text": [
      "<class 'pandas.core.frame.DataFrame'>\n",
      "Int64Index: 264834 entries, 0 to 264833\n",
      "Data columns (total 11 columns):\n",
      " #   Column            Non-Null Count   Dtype         \n",
      "---  ------            --------------   -----         \n",
      " 0   date              264834 non-null  datetime64[ns]\n",
      " 1   store_nbr         264834 non-null  int64         \n",
      " 2   lylty_card_nbr    264834 non-null  int64         \n",
      " 3   txn_id            264834 non-null  int64         \n",
      " 4   prod_nbr          264834 non-null  int64         \n",
      " 5   prod_name         264834 non-null  object        \n",
      " 6   prod_size \"g\"     264834 non-null  int64         \n",
      " 7   prod_qty          264834 non-null  int64         \n",
      " 8   tot_sales         264834 non-null  float64       \n",
      " 9   lifestage         264834 non-null  object        \n",
      " 10  premium_customer  264834 non-null  object        \n",
      "dtypes: datetime64[ns](1), float64(1), int64(6), object(3)\n",
      "memory usage: 24.2+ MB\n"
     ]
    }
   ],
   "source": [
    "comb.info()"
   ]
  },
  {
   "cell_type": "markdown",
   "metadata": {},
   "source": [
    "The data now conprise of same 11 features 1 datetime, 1 float, 6 int and 3 objects data types"
   ]
  },
  {
   "cell_type": "code",
   "execution_count": 20,
   "metadata": {},
   "outputs": [
    {
     "data": {
      "text/html": [
       "<div>\n",
       "<style scoped>\n",
       "    .dataframe tbody tr th:only-of-type {\n",
       "        vertical-align: middle;\n",
       "    }\n",
       "\n",
       "    .dataframe tbody tr th {\n",
       "        vertical-align: top;\n",
       "    }\n",
       "\n",
       "    .dataframe thead th {\n",
       "        text-align: right;\n",
       "    }\n",
       "</style>\n",
       "<table border=\"1\" class=\"dataframe\">\n",
       "  <thead>\n",
       "    <tr style=\"text-align: right;\">\n",
       "      <th></th>\n",
       "      <th>store_nbr</th>\n",
       "      <th>lylty_card_nbr</th>\n",
       "      <th>txn_id</th>\n",
       "      <th>prod_nbr</th>\n",
       "      <th>prod_size \"g\"</th>\n",
       "      <th>prod_qty</th>\n",
       "      <th>tot_sales</th>\n",
       "    </tr>\n",
       "  </thead>\n",
       "  <tbody>\n",
       "    <tr>\n",
       "      <th>count</th>\n",
       "      <td>264834.000000</td>\n",
       "      <td>2.648340e+05</td>\n",
       "      <td>2.648340e+05</td>\n",
       "      <td>264834.000000</td>\n",
       "      <td>264834.000000</td>\n",
       "      <td>264834.000000</td>\n",
       "      <td>264834.000000</td>\n",
       "    </tr>\n",
       "    <tr>\n",
       "      <th>mean</th>\n",
       "      <td>135.080322</td>\n",
       "      <td>1.355497e+05</td>\n",
       "      <td>1.351585e+05</td>\n",
       "      <td>56.583245</td>\n",
       "      <td>182.427060</td>\n",
       "      <td>1.907308</td>\n",
       "      <td>7.304209</td>\n",
       "    </tr>\n",
       "    <tr>\n",
       "      <th>std</th>\n",
       "      <td>76.784431</td>\n",
       "      <td>8.058024e+04</td>\n",
       "      <td>7.813329e+04</td>\n",
       "      <td>32.826746</td>\n",
       "      <td>64.327436</td>\n",
       "      <td>0.643656</td>\n",
       "      <td>3.083235</td>\n",
       "    </tr>\n",
       "    <tr>\n",
       "      <th>min</th>\n",
       "      <td>1.000000</td>\n",
       "      <td>1.000000e+03</td>\n",
       "      <td>1.000000e+00</td>\n",
       "      <td>1.000000</td>\n",
       "      <td>70.000000</td>\n",
       "      <td>1.000000</td>\n",
       "      <td>1.500000</td>\n",
       "    </tr>\n",
       "    <tr>\n",
       "      <th>25%</th>\n",
       "      <td>70.000000</td>\n",
       "      <td>7.002100e+04</td>\n",
       "      <td>6.760050e+04</td>\n",
       "      <td>28.000000</td>\n",
       "      <td>150.000000</td>\n",
       "      <td>2.000000</td>\n",
       "      <td>5.400000</td>\n",
       "    </tr>\n",
       "    <tr>\n",
       "      <th>50%</th>\n",
       "      <td>130.000000</td>\n",
       "      <td>1.303580e+05</td>\n",
       "      <td>1.351385e+05</td>\n",
       "      <td>56.000000</td>\n",
       "      <td>170.000000</td>\n",
       "      <td>2.000000</td>\n",
       "      <td>7.400000</td>\n",
       "    </tr>\n",
       "    <tr>\n",
       "      <th>75%</th>\n",
       "      <td>203.000000</td>\n",
       "      <td>2.030948e+05</td>\n",
       "      <td>2.027018e+05</td>\n",
       "      <td>85.000000</td>\n",
       "      <td>175.000000</td>\n",
       "      <td>2.000000</td>\n",
       "      <td>9.200000</td>\n",
       "    </tr>\n",
       "    <tr>\n",
       "      <th>max</th>\n",
       "      <td>272.000000</td>\n",
       "      <td>2.373711e+06</td>\n",
       "      <td>2.415841e+06</td>\n",
       "      <td>114.000000</td>\n",
       "      <td>380.000000</td>\n",
       "      <td>200.000000</td>\n",
       "      <td>650.000000</td>\n",
       "    </tr>\n",
       "  </tbody>\n",
       "</table>\n",
       "</div>"
      ],
      "text/plain": [
       "           store_nbr  lylty_card_nbr        txn_id       prod_nbr  \\\n",
       "count  264834.000000    2.648340e+05  2.648340e+05  264834.000000   \n",
       "mean      135.080322    1.355497e+05  1.351585e+05      56.583245   \n",
       "std        76.784431    8.058024e+04  7.813329e+04      32.826746   \n",
       "min         1.000000    1.000000e+03  1.000000e+00       1.000000   \n",
       "25%        70.000000    7.002100e+04  6.760050e+04      28.000000   \n",
       "50%       130.000000    1.303580e+05  1.351385e+05      56.000000   \n",
       "75%       203.000000    2.030948e+05  2.027018e+05      85.000000   \n",
       "max       272.000000    2.373711e+06  2.415841e+06     114.000000   \n",
       "\n",
       "       prod_size \"g\"       prod_qty      tot_sales  \n",
       "count  264834.000000  264834.000000  264834.000000  \n",
       "mean      182.427060       1.907308       7.304209  \n",
       "std        64.327436       0.643656       3.083235  \n",
       "min        70.000000       1.000000       1.500000  \n",
       "25%       150.000000       2.000000       5.400000  \n",
       "50%       170.000000       2.000000       7.400000  \n",
       "75%       175.000000       2.000000       9.200000  \n",
       "max       380.000000     200.000000     650.000000  "
      ]
     },
     "execution_count": 20,
     "metadata": {},
     "output_type": "execute_result"
    }
   ],
   "source": [
    "# High level summary of the data\n",
    "comb.describe()"
   ]
  },
  {
   "cell_type": "markdown",
   "metadata": {},
   "source": [
    "The dataset has varying scale, mean and standard deviation. Though we will not be rescaling the data.\n",
    "\n",
    "We will use histogram and boxplot to identify outliers. Outliers affects data distribution and skew it in the direction of the outlier . This makes it difficult to analyze the data."
   ]
  },
  {
   "cell_type": "code",
   "execution_count": 21,
   "metadata": {},
   "outputs": [
    {
     "data": {
      "image/png": "[encoded data removed]",
      "text/plain": [
       "<Figure size 720x576 with 9 Axes>"
      ]
     },
     "metadata": {
      "needs_background": "light"
     },
     "output_type": "display_data"
    }
   ],
   "source": [
    "#identifying columns with outliers with a histogram chart\n",
    "comb.hist(figsize=(10,8));"
   ]
  },
  {
   "cell_type": "code",
   "execution_count": 22,
   "metadata": {},
   "outputs": [
    {
     "data": {
      "image/png": "[encoded data removed]",
      "text/plain": [
       "<Figure size 720x576 with 1 Axes>"
      ]
     },
     "metadata": {
      "needs_background": "light"
     },
     "output_type": "display_data"
    }
   ],
   "source": [
    "#identifying columns with outliers with a boxplot\n",
    "comb.boxplot(figsize=(10,8));"
   ]
  },
  {
   "cell_type": "markdown",
   "metadata": {},
   "source": [
    "As displayed in the boxplot there are some outlier and these need to be removed so that the accuracy of this analysis will not be affetced. We will analyze each column with outlier closely starting with 'lylty_card_nbr' and 'txn_id' columns. "
   ]
  },
  {
   "cell_type": "code",
   "execution_count": 23,
   "metadata": {},
   "outputs": [
    {
     "name": "stdout",
     "output_type": "stream",
     "text": [
      "44\n"
     ]
    },
    {
     "data": {
      "text/html": [
       "<div>\n",
       "<style scoped>\n",
       "    .dataframe tbody tr th:only-of-type {\n",
       "        vertical-align: middle;\n",
       "    }\n",
       "\n",
       "    .dataframe tbody tr th {\n",
       "        vertical-align: top;\n",
       "    }\n",
       "\n",
       "    .dataframe thead th {\n",
       "        text-align: right;\n",
       "    }\n",
       "</style>\n",
       "<table border=\"1\" class=\"dataframe\">\n",
       "  <thead>\n",
       "    <tr style=\"text-align: right;\">\n",
       "      <th></th>\n",
       "      <th>date</th>\n",
       "      <th>store_nbr</th>\n",
       "      <th>lylty_card_nbr</th>\n",
       "      <th>txn_id</th>\n",
       "      <th>prod_nbr</th>\n",
       "      <th>prod_name</th>\n",
       "      <th>prod_size \"g\"</th>\n",
       "      <th>prod_qty</th>\n",
       "      <th>tot_sales</th>\n",
       "      <th>lifestage</th>\n",
       "      <th>premium_customer</th>\n",
       "    </tr>\n",
       "  </thead>\n",
       "  <tbody>\n",
       "    <tr>\n",
       "      <th>1951</th>\n",
       "      <td>2018-07-17</td>\n",
       "      <td>77</td>\n",
       "      <td>2330211</td>\n",
       "      <td>236744</td>\n",
       "      <td>94</td>\n",
       "      <td>Burger Rings</td>\n",
       "      <td>220</td>\n",
       "      <td>1</td>\n",
       "      <td>2.3</td>\n",
       "      <td>MIDAGE SINGLES/COUPLES</td>\n",
       "      <td>Budget</td>\n",
       "    </tr>\n",
       "    <tr>\n",
       "      <th>15782</th>\n",
       "      <td>2018-08-03</td>\n",
       "      <td>88</td>\n",
       "      <td>2370651</td>\n",
       "      <td>240350</td>\n",
       "      <td>4</td>\n",
       "      <td>Dorito Corn Chp     Supreme</td>\n",
       "      <td>380</td>\n",
       "      <td>2</td>\n",
       "      <td>13.0</td>\n",
       "      <td>MIDAGE SINGLES/COUPLES</td>\n",
       "      <td>Mainstream</td>\n",
       "    </tr>\n",
       "    <tr>\n",
       "      <th>20322</th>\n",
       "      <td>2018-09-07</td>\n",
       "      <td>77</td>\n",
       "      <td>2330031</td>\n",
       "      <td>236717</td>\n",
       "      <td>19</td>\n",
       "      <td>Smiths Crinkle Cut  Snag&amp;Sauce</td>\n",
       "      <td>150</td>\n",
       "      <td>2</td>\n",
       "      <td>5.2</td>\n",
       "      <td>MIDAGE SINGLES/COUPLES</td>\n",
       "      <td>Premium</td>\n",
       "    </tr>\n",
       "    <tr>\n",
       "      <th>20323</th>\n",
       "      <td>2018-07-07</td>\n",
       "      <td>77</td>\n",
       "      <td>2330031</td>\n",
       "      <td>236716</td>\n",
       "      <td>102</td>\n",
       "      <td>Kettle Mozzarella   Basil &amp; Pesto</td>\n",
       "      <td>175</td>\n",
       "      <td>1</td>\n",
       "      <td>5.4</td>\n",
       "      <td>MIDAGE SINGLES/COUPLES</td>\n",
       "      <td>Premium</td>\n",
       "    </tr>\n",
       "    <tr>\n",
       "      <th>32030</th>\n",
       "      <td>2018-07-21</td>\n",
       "      <td>77</td>\n",
       "      <td>2330461</td>\n",
       "      <td>236777</td>\n",
       "      <td>87</td>\n",
       "      <td>Infuzions BBQ Rib   Prawn Crackers</td>\n",
       "      <td>110</td>\n",
       "      <td>1</td>\n",
       "      <td>3.8</td>\n",
       "      <td>OLDER FAMILIES</td>\n",
       "      <td>Budget</td>\n",
       "    </tr>\n",
       "    <tr>\n",
       "      <th>42589</th>\n",
       "      <td>2018-09-14</td>\n",
       "      <td>237</td>\n",
       "      <td>880171</td>\n",
       "      <td>86305</td>\n",
       "      <td>32</td>\n",
       "      <td>Kettle Sea Salt     And Vinegar</td>\n",
       "      <td>175</td>\n",
       "      <td>2</td>\n",
       "      <td>10.8</td>\n",
       "      <td>OLDER FAMILIES</td>\n",
       "      <td>Budget</td>\n",
       "    </tr>\n",
       "    <tr>\n",
       "      <th>42590</th>\n",
       "      <td>2018-09-28</td>\n",
       "      <td>237</td>\n",
       "      <td>880171</td>\n",
       "      <td>86306</td>\n",
       "      <td>24</td>\n",
       "      <td>Grain Waves         Sweet Chilli</td>\n",
       "      <td>210</td>\n",
       "      <td>2</td>\n",
       "      <td>7.2</td>\n",
       "      <td>OLDER FAMILIES</td>\n",
       "      <td>Budget</td>\n",
       "    </tr>\n",
       "    <tr>\n",
       "      <th>42599</th>\n",
       "      <td>2018-09-04</td>\n",
       "      <td>237</td>\n",
       "      <td>880711</td>\n",
       "      <td>86566</td>\n",
       "      <td>31</td>\n",
       "      <td>Infzns Crn Crnchers Tangy Gcamole</td>\n",
       "      <td>110</td>\n",
       "      <td>2</td>\n",
       "      <td>7.6</td>\n",
       "      <td>OLDER FAMILIES</td>\n",
       "      <td>Budget</td>\n",
       "    </tr>\n",
       "    <tr>\n",
       "      <th>42600</th>\n",
       "      <td>2018-09-15</td>\n",
       "      <td>237</td>\n",
       "      <td>880711</td>\n",
       "      <td>86567</td>\n",
       "      <td>3</td>\n",
       "      <td>Kettle Sensations   Camembert &amp; Fig</td>\n",
       "      <td>150</td>\n",
       "      <td>2</td>\n",
       "      <td>9.2</td>\n",
       "      <td>OLDER FAMILIES</td>\n",
       "      <td>Budget</td>\n",
       "    </tr>\n",
       "    <tr>\n",
       "      <th>53393</th>\n",
       "      <td>2018-10-24</td>\n",
       "      <td>88</td>\n",
       "      <td>2370961</td>\n",
       "      <td>240480</td>\n",
       "      <td>70</td>\n",
       "      <td>Tyrrells Crisps     Lightly Salted</td>\n",
       "      <td>165</td>\n",
       "      <td>2</td>\n",
       "      <td>8.4</td>\n",
       "      <td>OLDER FAMILIES</td>\n",
       "      <td>Budget</td>\n",
       "    </tr>\n",
       "    <tr>\n",
       "      <th>53394</th>\n",
       "      <td>2018-10-27</td>\n",
       "      <td>88</td>\n",
       "      <td>2370961</td>\n",
       "      <td>240481</td>\n",
       "      <td>65</td>\n",
       "      <td>Old El Paso Salsa   Dip Chnky Tom Ht</td>\n",
       "      <td>300</td>\n",
       "      <td>2</td>\n",
       "      <td>10.2</td>\n",
       "      <td>OLDER FAMILIES</td>\n",
       "      <td>Budget</td>\n",
       "    </tr>\n",
       "    <tr>\n",
       "      <th>81430</th>\n",
       "      <td>2018-11-07</td>\n",
       "      <td>77</td>\n",
       "      <td>2330191</td>\n",
       "      <td>236740</td>\n",
       "      <td>67</td>\n",
       "      <td>RRD Chilli&amp;         Coconut</td>\n",
       "      <td>150</td>\n",
       "      <td>1</td>\n",
       "      <td>2.7</td>\n",
       "      <td>OLDER SINGLES/COUPLES</td>\n",
       "      <td>Budget</td>\n",
       "    </tr>\n",
       "    <tr>\n",
       "      <th>97245</th>\n",
       "      <td>2019-06-20</td>\n",
       "      <td>77</td>\n",
       "      <td>2330501</td>\n",
       "      <td>236780</td>\n",
       "      <td>63</td>\n",
       "      <td>Kettle  Swt Pot Sea Salt</td>\n",
       "      <td>135</td>\n",
       "      <td>1</td>\n",
       "      <td>4.2</td>\n",
       "      <td>OLDER SINGLES/COUPLES</td>\n",
       "      <td>Budget</td>\n",
       "    </tr>\n",
       "    <tr>\n",
       "      <th>97428</th>\n",
       "      <td>2018-10-26</td>\n",
       "      <td>88</td>\n",
       "      <td>2370361</td>\n",
       "      <td>240224</td>\n",
       "      <td>25</td>\n",
       "      <td>Pringles SourCream  Onion</td>\n",
       "      <td>134</td>\n",
       "      <td>2</td>\n",
       "      <td>7.4</td>\n",
       "      <td>OLDER SINGLES/COUPLES</td>\n",
       "      <td>Budget</td>\n",
       "    </tr>\n",
       "    <tr>\n",
       "      <th>97429</th>\n",
       "      <td>2018-12-17</td>\n",
       "      <td>88</td>\n",
       "      <td>2370581</td>\n",
       "      <td>240317</td>\n",
       "      <td>93</td>\n",
       "      <td>Doritos Corn Chip Southern Chicken</td>\n",
       "      <td>150</td>\n",
       "      <td>2</td>\n",
       "      <td>7.8</td>\n",
       "      <td>OLDER SINGLES/COUPLES</td>\n",
       "      <td>Budget</td>\n",
       "    </tr>\n",
       "    <tr>\n",
       "      <th>97430</th>\n",
       "      <td>2018-12-26</td>\n",
       "      <td>88</td>\n",
       "      <td>2370581</td>\n",
       "      <td>240318</td>\n",
       "      <td>9</td>\n",
       "      <td>Kettle Tortilla ChpsBtroot&amp;Ricotta</td>\n",
       "      <td>150</td>\n",
       "      <td>2</td>\n",
       "      <td>9.2</td>\n",
       "      <td>OLDER SINGLES/COUPLES</td>\n",
       "      <td>Budget</td>\n",
       "    </tr>\n",
       "    <tr>\n",
       "      <th>99033</th>\n",
       "      <td>2018-11-09</td>\n",
       "      <td>77</td>\n",
       "      <td>2330291</td>\n",
       "      <td>236752</td>\n",
       "      <td>89</td>\n",
       "      <td>Kettle Sweet Chilli And Sour Cream</td>\n",
       "      <td>175</td>\n",
       "      <td>1</td>\n",
       "      <td>5.4</td>\n",
       "      <td>OLDER SINGLES/COUPLES</td>\n",
       "      <td>Mainstream</td>\n",
       "    </tr>\n",
       "    <tr>\n",
       "      <th>99034</th>\n",
       "      <td>2018-11-10</td>\n",
       "      <td>77</td>\n",
       "      <td>2330291</td>\n",
       "      <td>236753</td>\n",
       "      <td>3</td>\n",
       "      <td>Kettle Sensations   Camembert &amp; Fig</td>\n",
       "      <td>150</td>\n",
       "      <td>1</td>\n",
       "      <td>4.6</td>\n",
       "      <td>OLDER SINGLES/COUPLES</td>\n",
       "      <td>Mainstream</td>\n",
       "    </tr>\n",
       "    <tr>\n",
       "      <th>99035</th>\n",
       "      <td>2019-06-18</td>\n",
       "      <td>77</td>\n",
       "      <td>2330291</td>\n",
       "      <td>236754</td>\n",
       "      <td>83</td>\n",
       "      <td>WW D/Style Chip     Sea Salt</td>\n",
       "      <td>200</td>\n",
       "      <td>1</td>\n",
       "      <td>1.9</td>\n",
       "      <td>OLDER SINGLES/COUPLES</td>\n",
       "      <td>Mainstream</td>\n",
       "    </tr>\n",
       "    <tr>\n",
       "      <th>107120</th>\n",
       "      <td>2018-07-31</td>\n",
       "      <td>77</td>\n",
       "      <td>2330431</td>\n",
       "      <td>236770</td>\n",
       "      <td>50</td>\n",
       "      <td>Tostitos Lightly    Salted</td>\n",
       "      <td>175</td>\n",
       "      <td>1</td>\n",
       "      <td>4.4</td>\n",
       "      <td>OLDER SINGLES/COUPLES</td>\n",
       "      <td>Mainstream</td>\n",
       "    </tr>\n",
       "    <tr>\n",
       "      <th>107924</th>\n",
       "      <td>2018-09-12</td>\n",
       "      <td>237</td>\n",
       "      <td>883791</td>\n",
       "      <td>88099</td>\n",
       "      <td>87</td>\n",
       "      <td>Infuzions BBQ Rib   Prawn Crackers</td>\n",
       "      <td>110</td>\n",
       "      <td>2</td>\n",
       "      <td>7.6</td>\n",
       "      <td>OLDER SINGLES/COUPLES</td>\n",
       "      <td>Mainstream</td>\n",
       "    </tr>\n",
       "    <tr>\n",
       "      <th>107925</th>\n",
       "      <td>2018-09-29</td>\n",
       "      <td>237</td>\n",
       "      <td>883791</td>\n",
       "      <td>88100</td>\n",
       "      <td>33</td>\n",
       "      <td>Cobs Popd Swt/Chlli &amp;Sr/Cream Chips</td>\n",
       "      <td>110</td>\n",
       "      <td>2</td>\n",
       "      <td>7.6</td>\n",
       "      <td>OLDER SINGLES/COUPLES</td>\n",
       "      <td>Mainstream</td>\n",
       "    </tr>\n",
       "    <tr>\n",
       "      <th>107926</th>\n",
       "      <td>2019-06-29</td>\n",
       "      <td>237</td>\n",
       "      <td>883791</td>\n",
       "      <td>88103</td>\n",
       "      <td>68</td>\n",
       "      <td>Pringles Chicken    Salt Crips</td>\n",
       "      <td>134</td>\n",
       "      <td>2</td>\n",
       "      <td>7.4</td>\n",
       "      <td>OLDER SINGLES/COUPLES</td>\n",
       "      <td>Mainstream</td>\n",
       "    </tr>\n",
       "    <tr>\n",
       "      <th>125227</th>\n",
       "      <td>2019-06-26</td>\n",
       "      <td>155</td>\n",
       "      <td>861921</td>\n",
       "      <td>85336</td>\n",
       "      <td>4</td>\n",
       "      <td>Dorito Corn Chp     Supreme</td>\n",
       "      <td>380</td>\n",
       "      <td>2</td>\n",
       "      <td>13.0</td>\n",
       "      <td>OLDER SINGLES/COUPLES</td>\n",
       "      <td>Premium</td>\n",
       "    </tr>\n",
       "    <tr>\n",
       "      <th>125272</th>\n",
       "      <td>2018-09-11</td>\n",
       "      <td>237</td>\n",
       "      <td>880551</td>\n",
       "      <td>86491</td>\n",
       "      <td>59</td>\n",
       "      <td>Old El Paso Salsa   Dip Tomato Med</td>\n",
       "      <td>300</td>\n",
       "      <td>2</td>\n",
       "      <td>10.2</td>\n",
       "      <td>OLDER SINGLES/COUPLES</td>\n",
       "      <td>Premium</td>\n",
       "    </tr>\n",
       "    <tr>\n",
       "      <th>133507</th>\n",
       "      <td>2018-08-10</td>\n",
       "      <td>88</td>\n",
       "      <td>2370001</td>\n",
       "      <td>240064</td>\n",
       "      <td>102</td>\n",
       "      <td>Kettle Mozzarella   Basil &amp; Pesto</td>\n",
       "      <td>175</td>\n",
       "      <td>2</td>\n",
       "      <td>10.8</td>\n",
       "      <td>OLDER SINGLES/COUPLES</td>\n",
       "      <td>Premium</td>\n",
       "    </tr>\n",
       "    <tr>\n",
       "      <th>135103</th>\n",
       "      <td>2018-11-18</td>\n",
       "      <td>77</td>\n",
       "      <td>2330331</td>\n",
       "      <td>236760</td>\n",
       "      <td>95</td>\n",
       "      <td>Sunbites Whlegrn    Crisps Frch/Onin</td>\n",
       "      <td>90</td>\n",
       "      <td>2</td>\n",
       "      <td>3.4</td>\n",
       "      <td>RETIREES</td>\n",
       "      <td>Budget</td>\n",
       "    </tr>\n",
       "    <tr>\n",
       "      <th>135104</th>\n",
       "      <td>2018-11-29</td>\n",
       "      <td>77</td>\n",
       "      <td>2330251</td>\n",
       "      <td>236747</td>\n",
       "      <td>14</td>\n",
       "      <td>Smiths Crnkle Chip  Orgnl Big Bag</td>\n",
       "      <td>380</td>\n",
       "      <td>2</td>\n",
       "      <td>11.8</td>\n",
       "      <td>RETIREES</td>\n",
       "      <td>Budget</td>\n",
       "    </tr>\n",
       "    <tr>\n",
       "      <th>137766</th>\n",
       "      <td>2018-11-26</td>\n",
       "      <td>77</td>\n",
       "      <td>2330121</td>\n",
       "      <td>236729</td>\n",
       "      <td>10</td>\n",
       "      <td>RRD SR Slow Rst     Pork Belly</td>\n",
       "      <td>150</td>\n",
       "      <td>2</td>\n",
       "      <td>5.4</td>\n",
       "      <td>RETIREES</td>\n",
       "      <td>Budget</td>\n",
       "    </tr>\n",
       "    <tr>\n",
       "      <th>141971</th>\n",
       "      <td>2019-06-26</td>\n",
       "      <td>155</td>\n",
       "      <td>861951</td>\n",
       "      <td>85355</td>\n",
       "      <td>28</td>\n",
       "      <td>Thins Potato Chips  Hot &amp; Spicy</td>\n",
       "      <td>175</td>\n",
       "      <td>2</td>\n",
       "      <td>6.6</td>\n",
       "      <td>RETIREES</td>\n",
       "      <td>Budget</td>\n",
       "    </tr>\n",
       "    <tr>\n",
       "      <th>169459</th>\n",
       "      <td>2019-06-22</td>\n",
       "      <td>77</td>\n",
       "      <td>2330081</td>\n",
       "      <td>236723</td>\n",
       "      <td>30</td>\n",
       "      <td>Doritos Corn Chips  Cheese Supreme</td>\n",
       "      <td>170</td>\n",
       "      <td>2</td>\n",
       "      <td>8.8</td>\n",
       "      <td>RETIREES</td>\n",
       "      <td>Mainstream</td>\n",
       "    </tr>\n",
       "    <tr>\n",
       "      <th>169462</th>\n",
       "      <td>2019-06-20</td>\n",
       "      <td>77</td>\n",
       "      <td>2330171</td>\n",
       "      <td>236737</td>\n",
       "      <td>5</td>\n",
       "      <td>Natural Chip        Compny SeaSalt</td>\n",
       "      <td>175</td>\n",
       "      <td>2</td>\n",
       "      <td>6.0</td>\n",
       "      <td>RETIREES</td>\n",
       "      <td>Mainstream</td>\n",
       "    </tr>\n",
       "    <tr>\n",
       "      <th>174171</th>\n",
       "      <td>2018-09-07</td>\n",
       "      <td>77</td>\n",
       "      <td>2330051</td>\n",
       "      <td>236719</td>\n",
       "      <td>78</td>\n",
       "      <td>Thins Chips Salt &amp;  Vinegar</td>\n",
       "      <td>175</td>\n",
       "      <td>2</td>\n",
       "      <td>6.6</td>\n",
       "      <td>RETIREES</td>\n",
       "      <td>Premium</td>\n",
       "    </tr>\n",
       "    <tr>\n",
       "      <th>193476</th>\n",
       "      <td>2019-06-12</td>\n",
       "      <td>155</td>\n",
       "      <td>861961</td>\n",
       "      <td>85362</td>\n",
       "      <td>11</td>\n",
       "      <td>RRD Pc Sea Salt</td>\n",
       "      <td>165</td>\n",
       "      <td>2</td>\n",
       "      <td>6.0</td>\n",
       "      <td>YOUNG FAMILIES</td>\n",
       "      <td>Budget</td>\n",
       "    </tr>\n",
       "    <tr>\n",
       "      <th>193488</th>\n",
       "      <td>2019-06-14</td>\n",
       "      <td>155</td>\n",
       "      <td>862501</td>\n",
       "      <td>85677</td>\n",
       "      <td>78</td>\n",
       "      <td>Thins Chips Salt &amp;  Vinegar</td>\n",
       "      <td>175</td>\n",
       "      <td>2</td>\n",
       "      <td>6.6</td>\n",
       "      <td>YOUNG FAMILIES</td>\n",
       "      <td>Budget</td>\n",
       "    </tr>\n",
       "    <tr>\n",
       "      <th>193489</th>\n",
       "      <td>2019-06-28</td>\n",
       "      <td>155</td>\n",
       "      <td>862501</td>\n",
       "      <td>85678</td>\n",
       "      <td>16</td>\n",
       "      <td>Smiths Crinkle Chips Salt &amp; Vinegar</td>\n",
       "      <td>330</td>\n",
       "      <td>2</td>\n",
       "      <td>11.4</td>\n",
       "      <td>YOUNG FAMILIES</td>\n",
       "      <td>Budget</td>\n",
       "    </tr>\n",
       "    <tr>\n",
       "      <th>215612</th>\n",
       "      <td>2019-06-29</td>\n",
       "      <td>77</td>\n",
       "      <td>2330271</td>\n",
       "      <td>236749</td>\n",
       "      <td>114</td>\n",
       "      <td>Kettle Sensations   Siracha Lime</td>\n",
       "      <td>150</td>\n",
       "      <td>2</td>\n",
       "      <td>9.2</td>\n",
       "      <td>YOUNG FAMILIES</td>\n",
       "      <td>Mainstream</td>\n",
       "    </tr>\n",
       "    <tr>\n",
       "      <th>215730</th>\n",
       "      <td>2018-12-08</td>\n",
       "      <td>88</td>\n",
       "      <td>2370701</td>\n",
       "      <td>240378</td>\n",
       "      <td>24</td>\n",
       "      <td>Grain Waves         Sweet Chilli</td>\n",
       "      <td>210</td>\n",
       "      <td>2</td>\n",
       "      <td>7.2</td>\n",
       "      <td>YOUNG FAMILIES</td>\n",
       "      <td>Mainstream</td>\n",
       "    </tr>\n",
       "    <tr>\n",
       "      <th>227597</th>\n",
       "      <td>2018-10-01</td>\n",
       "      <td>88</td>\n",
       "      <td>2370751</td>\n",
       "      <td>240394</td>\n",
       "      <td>60</td>\n",
       "      <td>Kettle Tortilla ChpsFeta&amp;Garlic</td>\n",
       "      <td>150</td>\n",
       "      <td>2</td>\n",
       "      <td>9.2</td>\n",
       "      <td>YOUNG FAMILIES</td>\n",
       "      <td>Premium</td>\n",
       "    </tr>\n",
       "    <tr>\n",
       "      <th>228458</th>\n",
       "      <td>2018-11-09</td>\n",
       "      <td>77</td>\n",
       "      <td>2330311</td>\n",
       "      <td>236755</td>\n",
       "      <td>90</td>\n",
       "      <td>Tostitos Smoked     Chipotle</td>\n",
       "      <td>175</td>\n",
       "      <td>1</td>\n",
       "      <td>4.4</td>\n",
       "      <td>YOUNG SINGLES/COUPLES</td>\n",
       "      <td>Budget</td>\n",
       "    </tr>\n",
       "    <tr>\n",
       "      <th>240662</th>\n",
       "      <td>2018-09-23</td>\n",
       "      <td>77</td>\n",
       "      <td>2330041</td>\n",
       "      <td>236718</td>\n",
       "      <td>24</td>\n",
       "      <td>Grain Waves         Sweet Chilli</td>\n",
       "      <td>210</td>\n",
       "      <td>2</td>\n",
       "      <td>7.2</td>\n",
       "      <td>YOUNG SINGLES/COUPLES</td>\n",
       "      <td>Mainstream</td>\n",
       "    </tr>\n",
       "    <tr>\n",
       "      <th>245986</th>\n",
       "      <td>2018-07-30</td>\n",
       "      <td>77</td>\n",
       "      <td>2330321</td>\n",
       "      <td>236756</td>\n",
       "      <td>71</td>\n",
       "      <td>Twisties Cheese     Burger</td>\n",
       "      <td>250</td>\n",
       "      <td>2</td>\n",
       "      <td>8.6</td>\n",
       "      <td>YOUNG SINGLES/COUPLES</td>\n",
       "      <td>Mainstream</td>\n",
       "    </tr>\n",
       "    <tr>\n",
       "      <th>256187</th>\n",
       "      <td>2018-08-02</td>\n",
       "      <td>88</td>\n",
       "      <td>2370181</td>\n",
       "      <td>240146</td>\n",
       "      <td>36</td>\n",
       "      <td>Kettle Chilli</td>\n",
       "      <td>175</td>\n",
       "      <td>2</td>\n",
       "      <td>10.8</td>\n",
       "      <td>YOUNG SINGLES/COUPLES</td>\n",
       "      <td>Mainstream</td>\n",
       "    </tr>\n",
       "    <tr>\n",
       "      <th>256292</th>\n",
       "      <td>2018-12-14</td>\n",
       "      <td>88</td>\n",
       "      <td>2373711</td>\n",
       "      <td>241815</td>\n",
       "      <td>16</td>\n",
       "      <td>Smiths Crinkle Chips Salt &amp; Vinegar</td>\n",
       "      <td>330</td>\n",
       "      <td>2</td>\n",
       "      <td>11.4</td>\n",
       "      <td>YOUNG SINGLES/COUPLES</td>\n",
       "      <td>Mainstream</td>\n",
       "    </tr>\n",
       "  </tbody>\n",
       "</table>\n",
       "</div>"
      ],
      "text/plain": [
       "             date  store_nbr  lylty_card_nbr  txn_id  prod_nbr  \\\n",
       "1951   2018-07-17         77         2330211  236744        94   \n",
       "15782  2018-08-03         88         2370651  240350         4   \n",
       "20322  2018-09-07         77         2330031  236717        19   \n",
       "20323  2018-07-07         77         2330031  236716       102   \n",
       "32030  2018-07-21         77         2330461  236777        87   \n",
       "42589  2018-09-14        237          880171   86305        32   \n",
       "42590  2018-09-28        237          880171   86306        24   \n",
       "42599  2018-09-04        237          880711   86566        31   \n",
       "42600  2018-09-15        237          880711   86567         3   \n",
       "53393  2018-10-24         88         2370961  240480        70   \n",
       "53394  2018-10-27         88         2370961  240481        65   \n",
       "81430  2018-11-07         77         2330191  236740        67   \n",
       "97245  2019-06-20         77         2330501  236780        63   \n",
       "97428  2018-10-26         88         2370361  240224        25   \n",
       "97429  2018-12-17         88         2370581  240317        93   \n",
       "97430  2018-12-26         88         2370581  240318         9   \n",
       "99033  2018-11-09         77         2330291  236752        89   \n",
       "99034  2018-11-10         77         2330291  236753         3   \n",
       "99035  2019-06-18         77         2330291  236754        83   \n",
       "107120 2018-07-31         77         2330431  236770        50   \n",
       "107924 2018-09-12        237          883791   88099        87   \n",
       "107925 2018-09-29        237          883791   88100        33   \n",
       "107926 2019-06-29        237          883791   88103        68   \n",
       "125227 2019-06-26        155          861921   85336         4   \n",
       "125272 2018-09-11        237          880551   86491        59   \n",
       "133507 2018-08-10         88         2370001  240064       102   \n",
       "135103 2018-11-18         77         2330331  236760        95   \n",
       "135104 2018-11-29         77         2330251  236747        14   \n",
       "137766 2018-11-26         77         2330121  236729        10   \n",
       "141971 2019-06-26        155          861951   85355        28   \n",
       "169459 2019-06-22         77         2330081  236723        30   \n",
       "169462 2019-06-20         77         2330171  236737         5   \n",
       "174171 2018-09-07         77         2330051  236719        78   \n",
       "193476 2019-06-12        155          861961   85362        11   \n",
       "193488 2019-06-14        155          862501   85677        78   \n",
       "193489 2019-06-28        155          862501   85678        16   \n",
       "215612 2019-06-29         77         2330271  236749       114   \n",
       "215730 2018-12-08         88         2370701  240378        24   \n",
       "227597 2018-10-01         88         2370751  240394        60   \n",
       "228458 2018-11-09         77         2330311  236755        90   \n",
       "240662 2018-09-23         77         2330041  236718        24   \n",
       "245986 2018-07-30         77         2330321  236756        71   \n",
       "256187 2018-08-02         88         2370181  240146        36   \n",
       "256292 2018-12-14         88         2373711  241815        16   \n",
       "\n",
       "                                   prod_name  prod_size \"g\"  prod_qty  \\\n",
       "1951                            Burger Rings            220         1   \n",
       "15782            Dorito Corn Chp     Supreme            380         2   \n",
       "20322         Smiths Crinkle Cut  Snag&Sauce            150         2   \n",
       "20323      Kettle Mozzarella   Basil & Pesto            175         1   \n",
       "32030     Infuzions BBQ Rib   Prawn Crackers            110         1   \n",
       "42589        Kettle Sea Salt     And Vinegar            175         2   \n",
       "42590       Grain Waves         Sweet Chilli            210         2   \n",
       "42599      Infzns Crn Crnchers Tangy Gcamole            110         2   \n",
       "42600    Kettle Sensations   Camembert & Fig            150         2   \n",
       "53393     Tyrrells Crisps     Lightly Salted            165         2   \n",
       "53394   Old El Paso Salsa   Dip Chnky Tom Ht            300         2   \n",
       "81430            RRD Chilli&         Coconut            150         1   \n",
       "97245               Kettle  Swt Pot Sea Salt            135         1   \n",
       "97428              Pringles SourCream  Onion            134         2   \n",
       "97429     Doritos Corn Chip Southern Chicken            150         2   \n",
       "97430     Kettle Tortilla ChpsBtroot&Ricotta            150         2   \n",
       "99033     Kettle Sweet Chilli And Sour Cream            175         1   \n",
       "99034    Kettle Sensations   Camembert & Fig            150         1   \n",
       "99035           WW D/Style Chip     Sea Salt            200         1   \n",
       "107120            Tostitos Lightly    Salted            175         1   \n",
       "107924    Infuzions BBQ Rib   Prawn Crackers            110         2   \n",
       "107925   Cobs Popd Swt/Chlli &Sr/Cream Chips            110         2   \n",
       "107926        Pringles Chicken    Salt Crips            134         2   \n",
       "125227           Dorito Corn Chp     Supreme            380         2   \n",
       "125272    Old El Paso Salsa   Dip Tomato Med            300         2   \n",
       "133507     Kettle Mozzarella   Basil & Pesto            175         2   \n",
       "135103  Sunbites Whlegrn    Crisps Frch/Onin             90         2   \n",
       "135104     Smiths Crnkle Chip  Orgnl Big Bag            380         2   \n",
       "137766        RRD SR Slow Rst     Pork Belly            150         2   \n",
       "141971       Thins Potato Chips  Hot & Spicy            175         2   \n",
       "169459    Doritos Corn Chips  Cheese Supreme            170         2   \n",
       "169462    Natural Chip        Compny SeaSalt            175         2   \n",
       "174171           Thins Chips Salt &  Vinegar            175         2   \n",
       "193476                       RRD Pc Sea Salt            165         2   \n",
       "193488           Thins Chips Salt &  Vinegar            175         2   \n",
       "193489   Smiths Crinkle Chips Salt & Vinegar            330         2   \n",
       "215612      Kettle Sensations   Siracha Lime            150         2   \n",
       "215730      Grain Waves         Sweet Chilli            210         2   \n",
       "227597       Kettle Tortilla ChpsFeta&Garlic            150         2   \n",
       "228458          Tostitos Smoked     Chipotle            175         1   \n",
       "240662      Grain Waves         Sweet Chilli            210         2   \n",
       "245986            Twisties Cheese     Burger            250         2   \n",
       "256187                         Kettle Chilli            175         2   \n",
       "256292   Smiths Crinkle Chips Salt & Vinegar            330         2   \n",
       "\n",
       "        tot_sales               lifestage premium_customer  \n",
       "1951          2.3  MIDAGE SINGLES/COUPLES           Budget  \n",
       "15782        13.0  MIDAGE SINGLES/COUPLES       Mainstream  \n",
       "20322         5.2  MIDAGE SINGLES/COUPLES          Premium  \n",
       "20323         5.4  MIDAGE SINGLES/COUPLES          Premium  \n",
       "32030         3.8          OLDER FAMILIES           Budget  \n",
       "42589        10.8          OLDER FAMILIES           Budget  \n",
       "42590         7.2          OLDER FAMILIES           Budget  \n",
       "42599         7.6          OLDER FAMILIES           Budget  \n",
       "42600         9.2          OLDER FAMILIES           Budget  \n",
       "53393         8.4          OLDER FAMILIES           Budget  \n",
       "53394        10.2          OLDER FAMILIES           Budget  \n",
       "81430         2.7   OLDER SINGLES/COUPLES           Budget  \n",
       "97245         4.2   OLDER SINGLES/COUPLES           Budget  \n",
       "97428         7.4   OLDER SINGLES/COUPLES           Budget  \n",
       "97429         7.8   OLDER SINGLES/COUPLES           Budget  \n",
       "97430         9.2   OLDER SINGLES/COUPLES           Budget  \n",
       "99033         5.4   OLDER SINGLES/COUPLES       Mainstream  \n",
       "99034         4.6   OLDER SINGLES/COUPLES       Mainstream  \n",
       "99035         1.9   OLDER SINGLES/COUPLES       Mainstream  \n",
       "107120        4.4   OLDER SINGLES/COUPLES       Mainstream  \n",
       "107924        7.6   OLDER SINGLES/COUPLES       Mainstream  \n",
       "107925        7.6   OLDER SINGLES/COUPLES       Mainstream  \n",
       "107926        7.4   OLDER SINGLES/COUPLES       Mainstream  \n",
       "125227       13.0   OLDER SINGLES/COUPLES          Premium  \n",
       "125272       10.2   OLDER SINGLES/COUPLES          Premium  \n",
       "133507       10.8   OLDER SINGLES/COUPLES          Premium  \n",
       "135103        3.4                RETIREES           Budget  \n",
       "135104       11.8                RETIREES           Budget  \n",
       "137766        5.4                RETIREES           Budget  \n",
       "141971        6.6                RETIREES           Budget  \n",
       "169459        8.8                RETIREES       Mainstream  \n",
       "169462        6.0                RETIREES       Mainstream  \n",
       "174171        6.6                RETIREES          Premium  \n",
       "193476        6.0          YOUNG FAMILIES           Budget  \n",
       "193488        6.6          YOUNG FAMILIES           Budget  \n",
       "193489       11.4          YOUNG FAMILIES           Budget  \n",
       "215612        9.2          YOUNG FAMILIES       Mainstream  \n",
       "215730        7.2          YOUNG FAMILIES       Mainstream  \n",
       "227597        9.2          YOUNG FAMILIES          Premium  \n",
       "228458        4.4   YOUNG SINGLES/COUPLES           Budget  \n",
       "240662        7.2   YOUNG SINGLES/COUPLES       Mainstream  \n",
       "245986        8.6   YOUNG SINGLES/COUPLES       Mainstream  \n",
       "256187       10.8   YOUNG SINGLES/COUPLES       Mainstream  \n",
       "256292       11.4   YOUNG SINGLES/COUPLES       Mainstream  "
      ]
     },
     "execution_count": 23,
     "metadata": {},
     "output_type": "execute_result"
    }
   ],
   "source": [
    "lyl_outlier = comb[(comb['lylty_card_nbr']) > 500000]\n",
    "print(len(lyl_outlier))\n",
    "lyl_outlier"
   ]
  },
  {
   "cell_type": "code",
   "execution_count": 24,
   "metadata": {},
   "outputs": [],
   "source": [
    "#dropping outliers in lylty_card_nbr column\n",
    "comb.drop(comb[comb['lylty_card_nbr'] > 500000].index, inplace=True)"
   ]
  },
  {
   "cell_type": "code",
   "execution_count": 25,
   "metadata": {},
   "outputs": [
    {
     "data": {
      "image/png": "[encoded data removed]",
      "text/plain": [
       "<Figure size 720x576 with 1 Axes>"
      ]
     },
     "metadata": {
      "needs_background": "light"
     },
     "output_type": "display_data"
    }
   ],
   "source": [
    "comb.boxplot(figsize=(10,8));"
   ]
  },
  {
   "cell_type": "code",
   "execution_count": 26,
   "metadata": {},
   "outputs": [],
   "source": [
    "# dropping outliers in txn_id column\n",
    "comb.drop(comb[comb['txn_id'] > 500000].index, inplace=True)"
   ]
  },
  {
   "cell_type": "code",
   "execution_count": 27,
   "metadata": {},
   "outputs": [
    {
     "data": {
      "image/png": "[encoded data removed]",
      "text/plain": [
       "<Figure size 720x576 with 1 Axes>"
      ]
     },
     "metadata": {
      "needs_background": "light"
     },
     "output_type": "display_data"
    }
   ],
   "source": [
    "comb.boxplot(figsize=(10,8));"
   ]
  },
  {
   "cell_type": "markdown",
   "metadata": {},
   "source": [
    "After taking out outliers in lylty_card_nbr and txn_id we still have some outliers let take a closer look at store_nbr, prod_nbr, prod_qty and tot_sales."
   ]
  },
  {
   "cell_type": "code",
   "execution_count": 28,
   "metadata": {},
   "outputs": [
    {
     "data": {
      "image/png": "[encoded data removed]",
      "text/plain": [
       "<Figure size 432x288 with 1 Axes>"
      ]
     },
     "metadata": {
      "needs_background": "light"
     },
     "output_type": "display_data"
    }
   ],
   "source": [
    "comb.boxplot(column=['store_nbr', 'prod_qty', 'prod_nbr', 'tot_sales']);"
   ]
  },
  {
   "cell_type": "code",
   "execution_count": 29,
   "metadata": {},
   "outputs": [
    {
     "data": {
      "text/html": [
       "<div>\n",
       "<style scoped>\n",
       "    .dataframe tbody tr th:only-of-type {\n",
       "        vertical-align: middle;\n",
       "    }\n",
       "\n",
       "    .dataframe tbody tr th {\n",
       "        vertical-align: top;\n",
       "    }\n",
       "\n",
       "    .dataframe thead th {\n",
       "        text-align: right;\n",
       "    }\n",
       "</style>\n",
       "<table border=\"1\" class=\"dataframe\">\n",
       "  <thead>\n",
       "    <tr style=\"text-align: right;\">\n",
       "      <th></th>\n",
       "      <th>date</th>\n",
       "      <th>store_nbr</th>\n",
       "      <th>lylty_card_nbr</th>\n",
       "      <th>txn_id</th>\n",
       "      <th>prod_nbr</th>\n",
       "      <th>prod_name</th>\n",
       "      <th>prod_size \"g\"</th>\n",
       "      <th>prod_qty</th>\n",
       "      <th>tot_sales</th>\n",
       "      <th>lifestage</th>\n",
       "      <th>premium_customer</th>\n",
       "    </tr>\n",
       "  </thead>\n",
       "  <tbody>\n",
       "    <tr>\n",
       "      <th>71456</th>\n",
       "      <td>2018-08-19</td>\n",
       "      <td>226</td>\n",
       "      <td>226000</td>\n",
       "      <td>226201</td>\n",
       "      <td>4</td>\n",
       "      <td>Dorito Corn Chp     Supreme</td>\n",
       "      <td>380</td>\n",
       "      <td>200</td>\n",
       "      <td>650.0</td>\n",
       "      <td>OLDER FAMILIES</td>\n",
       "      <td>Premium</td>\n",
       "    </tr>\n",
       "    <tr>\n",
       "      <th>71457</th>\n",
       "      <td>2019-05-20</td>\n",
       "      <td>226</td>\n",
       "      <td>226000</td>\n",
       "      <td>226210</td>\n",
       "      <td>4</td>\n",
       "      <td>Dorito Corn Chp     Supreme</td>\n",
       "      <td>380</td>\n",
       "      <td>200</td>\n",
       "      <td>650.0</td>\n",
       "      <td>OLDER FAMILIES</td>\n",
       "      <td>Premium</td>\n",
       "    </tr>\n",
       "  </tbody>\n",
       "</table>\n",
       "</div>"
      ],
      "text/plain": [
       "            date  store_nbr  lylty_card_nbr  txn_id  prod_nbr  \\\n",
       "71456 2018-08-19        226          226000  226201         4   \n",
       "71457 2019-05-20        226          226000  226210         4   \n",
       "\n",
       "                         prod_name  prod_size \"g\"  prod_qty  tot_sales  \\\n",
       "71456  Dorito Corn Chp     Supreme            380       200      650.0   \n",
       "71457  Dorito Corn Chp     Supreme            380       200      650.0   \n",
       "\n",
       "            lifestage premium_customer  \n",
       "71456  OLDER FAMILIES          Premium  \n",
       "71457  OLDER FAMILIES          Premium  "
      ]
     },
     "execution_count": 29,
     "metadata": {},
     "output_type": "execute_result"
    }
   ],
   "source": [
    "#displaying a dataframe with the outlier in total sales column\n",
    "comb[comb['tot_sales'] > 600]"
   ]
  },
  {
   "cell_type": "code",
   "execution_count": 30,
   "metadata": {},
   "outputs": [
    {
     "data": {
      "text/html": [
       "<div>\n",
       "<style scoped>\n",
       "    .dataframe tbody tr th:only-of-type {\n",
       "        vertical-align: middle;\n",
       "    }\n",
       "\n",
       "    .dataframe tbody tr th {\n",
       "        vertical-align: top;\n",
       "    }\n",
       "\n",
       "    .dataframe thead th {\n",
       "        text-align: right;\n",
       "    }\n",
       "</style>\n",
       "<table border=\"1\" class=\"dataframe\">\n",
       "  <thead>\n",
       "    <tr style=\"text-align: right;\">\n",
       "      <th></th>\n",
       "      <th>date</th>\n",
       "      <th>store_nbr</th>\n",
       "      <th>lylty_card_nbr</th>\n",
       "      <th>txn_id</th>\n",
       "      <th>prod_nbr</th>\n",
       "      <th>prod_name</th>\n",
       "      <th>prod_size \"g\"</th>\n",
       "      <th>prod_qty</th>\n",
       "      <th>tot_sales</th>\n",
       "      <th>lifestage</th>\n",
       "      <th>premium_customer</th>\n",
       "    </tr>\n",
       "  </thead>\n",
       "  <tbody>\n",
       "    <tr>\n",
       "      <th>71456</th>\n",
       "      <td>2018-08-19</td>\n",
       "      <td>226</td>\n",
       "      <td>226000</td>\n",
       "      <td>226201</td>\n",
       "      <td>4</td>\n",
       "      <td>Dorito Corn Chp     Supreme</td>\n",
       "      <td>380</td>\n",
       "      <td>200</td>\n",
       "      <td>650.0</td>\n",
       "      <td>OLDER FAMILIES</td>\n",
       "      <td>Premium</td>\n",
       "    </tr>\n",
       "    <tr>\n",
       "      <th>71457</th>\n",
       "      <td>2019-05-20</td>\n",
       "      <td>226</td>\n",
       "      <td>226000</td>\n",
       "      <td>226210</td>\n",
       "      <td>4</td>\n",
       "      <td>Dorito Corn Chp     Supreme</td>\n",
       "      <td>380</td>\n",
       "      <td>200</td>\n",
       "      <td>650.0</td>\n",
       "      <td>OLDER FAMILIES</td>\n",
       "      <td>Premium</td>\n",
       "    </tr>\n",
       "  </tbody>\n",
       "</table>\n",
       "</div>"
      ],
      "text/plain": [
       "            date  store_nbr  lylty_card_nbr  txn_id  prod_nbr  \\\n",
       "71456 2018-08-19        226          226000  226201         4   \n",
       "71457 2019-05-20        226          226000  226210         4   \n",
       "\n",
       "                         prod_name  prod_size \"g\"  prod_qty  tot_sales  \\\n",
       "71456  Dorito Corn Chp     Supreme            380       200      650.0   \n",
       "71457  Dorito Corn Chp     Supreme            380       200      650.0   \n",
       "\n",
       "            lifestage premium_customer  \n",
       "71456  OLDER FAMILIES          Premium  \n",
       "71457  OLDER FAMILIES          Premium  "
      ]
     },
     "execution_count": 30,
     "metadata": {},
     "output_type": "execute_result"
    }
   ],
   "source": [
    "comb[comb['prod_qty'] == 200]"
   ]
  },
  {
   "cell_type": "markdown",
   "metadata": {},
   "source": [
    "The above records is a case of one tax id being assigned to an individual. I do not think an individual with a particular loyalty card number will have two different tax id numbers. Only one tax id is usually assigned to a particular individual. In this case since the outlier for the 'prod_qty' and 'tot_sales' columns are from the same record i.e the record causing the outlier in 'prod_qty' and 'tot_sales' columns. We will delete both occurences of the observation and since its just two records our analysis accuracy will not be impacted by the deletion. More so since tax id is not one of the metrics to be used in the RFM analysis. "
   ]
  },
  {
   "cell_type": "code",
   "execution_count": 31,
   "metadata": {},
   "outputs": [],
   "source": [
    "# using the index number to deleting the observations that has two tax ids for an individual\n",
    "comb = comb.drop([71456, 71457])"
   ]
  },
  {
   "cell_type": "code",
   "execution_count": 32,
   "metadata": {},
   "outputs": [
    {
     "data": {
      "image/png": "[encoded data removed]",
      "text/plain": [
       "<Figure size 432x288 with 1 Axes>"
      ]
     },
     "metadata": {
      "needs_background": "light"
     },
     "output_type": "display_data"
    }
   ],
   "source": [
    "comb.boxplot(column=['store_nbr', 'prod_qty', 'prod_nbr', 'tot_sales']);"
   ]
  },
  {
   "cell_type": "code",
   "execution_count": 33,
   "metadata": {},
   "outputs": [
    {
     "data": {
      "image/png": "[encoded data removed]",
      "text/plain": [
       "<Figure size 432x288 with 1 Axes>"
      ]
     },
     "metadata": {
      "needs_background": "light"
     },
     "output_type": "display_data"
    }
   ],
   "source": [
    "comb.boxplot(column=['prod_qty', 'tot_sales']);"
   ]
  },
  {
   "cell_type": "markdown",
   "metadata": {},
   "source": [
    "We are left with 'prod_qty' and 'tot_sales'. I think these can be allowed to pass as obviously total sales per day and the quantity of products sold per day will always vary."
   ]
  },
  {
   "cell_type": "markdown",
   "metadata": {},
   "source": [
    "### Simple Visualization Analysis"
   ]
  },
  {
   "cell_type": "code",
   "execution_count": 34,
   "metadata": {},
   "outputs": [
    {
     "data": {
      "image/png": "[encoded data removed]",
      "text/plain": [
       "<Figure size 720x360 with 1 Axes>"
      ]
     },
     "metadata": {
      "needs_background": "light"
     },
     "output_type": "display_data"
    }
   ],
   "source": [
    "agg_lifestage = comb.pivot_table(index=['lifestage'], values=['tot_sales'], aggfunc='sum')\n",
    "agg_lifestage.plot(kind='bar', rot=45, figsize=(10,5));"
   ]
  },
  {
   "cell_type": "code",
   "execution_count": 35,
   "metadata": {
    "scrolled": false
   },
   "outputs": [
    {
     "data": {
      "image/png": "[encoded data removed]",
      "text/plain": [
       "<Figure size 360x288 with 1 Axes>"
      ]
     },
     "metadata": {
      "needs_background": "light"
     },
     "output_type": "display_data"
    }
   ],
   "source": [
    "agg_prem = comb.pivot_table(index=['premium_customer'], values=['tot_sales'], aggfunc='sum')\n",
    "agg_prem.plot(kind='bar', rot=45, figsize=(5,4));"
   ]
  },
  {
   "cell_type": "code",
   "execution_count": 36,
   "metadata": {},
   "outputs": [
    {
     "data": {
      "text/plain": [
       "<matplotlib.axes._subplots.AxesSubplot at 0x2202165e508>"
      ]
     },
     "execution_count": 36,
     "metadata": {},
     "output_type": "execute_result"
    },
    {
     "data": {
      "image/png": "[encoded data removed]",
      "text/plain": [
       "<Figure size 432x360 with 1 Axes>"
      ]
     },
     "metadata": {
      "needs_background": "light"
     },
     "output_type": "display_data"
    }
   ],
   "source": [
    "agg_prod_qty = comb.pivot_table(index=['prod_qty'], values=['tot_sales'], aggfunc='sum')\n",
    "agg_prod_qty.plot(kind='bar', figsize=(6,5))"
   ]
  },
  {
   "cell_type": "code",
   "execution_count": 37,
   "metadata": {},
   "outputs": [
    {
     "data": {
      "text/plain": [
       "236002"
      ]
     },
     "execution_count": 37,
     "metadata": {},
     "output_type": "execute_result"
    }
   ],
   "source": [
    "prod_qty_2 = comb[comb['prod_qty'] == 2 ]\n",
    "len(prod_qty_2)"
   ]
  },
  {
   "cell_type": "code",
   "execution_count": 38,
   "metadata": {},
   "outputs": [
    {
     "data": {
      "text/html": [
       "<div>\n",
       "<style scoped>\n",
       "    .dataframe tbody tr th:only-of-type {\n",
       "        vertical-align: middle;\n",
       "    }\n",
       "\n",
       "    .dataframe tbody tr th {\n",
       "        vertical-align: top;\n",
       "    }\n",
       "\n",
       "    .dataframe thead th {\n",
       "        text-align: right;\n",
       "    }\n",
       "</style>\n",
       "<table border=\"1\" class=\"dataframe\">\n",
       "  <thead>\n",
       "    <tr style=\"text-align: right;\">\n",
       "      <th></th>\n",
       "      <th>tot_sales</th>\n",
       "    </tr>\n",
       "    <tr>\n",
       "      <th>date</th>\n",
       "      <th></th>\n",
       "    </tr>\n",
       "  </thead>\n",
       "  <tbody>\n",
       "    <tr>\n",
       "      <th>2018</th>\n",
       "      <td>976171.55</td>\n",
       "    </tr>\n",
       "    <tr>\n",
       "      <th>2019</th>\n",
       "      <td>956592.75</td>\n",
       "    </tr>\n",
       "  </tbody>\n",
       "</table>\n",
       "</div>"
      ],
      "text/plain": [
       "      tot_sales\n",
       "date           \n",
       "2018  976171.55\n",
       "2019  956592.75"
      ]
     },
     "execution_count": 38,
     "metadata": {},
     "output_type": "execute_result"
    }
   ],
   "source": [
    "agg_year = comb.pivot_table(index=comb['date'].dt.year, values=['tot_sales'], aggfunc='sum')\n",
    "agg_year"
   ]
  },
  {
   "cell_type": "code",
   "execution_count": 39,
   "metadata": {},
   "outputs": [
    {
     "data": {
      "image/png": "[encoded data removed]",
      "text/plain": [
       "<Figure size 432x360 with 1 Axes>"
      ]
     },
     "metadata": {
      "needs_background": "light"
     },
     "output_type": "display_data"
    }
   ],
   "source": [
    "agg_year.plot(kind='bar', figsize=(6,5));"
   ]
  },
  {
   "cell_type": "code",
   "execution_count": 40,
   "metadata": {},
   "outputs": [
    {
     "data": {
      "text/html": [
       "<div>\n",
       "<style scoped>\n",
       "    .dataframe tbody tr th:only-of-type {\n",
       "        vertical-align: middle;\n",
       "    }\n",
       "\n",
       "    .dataframe tbody tr th {\n",
       "        vertical-align: top;\n",
       "    }\n",
       "\n",
       "    .dataframe thead th {\n",
       "        text-align: right;\n",
       "    }\n",
       "</style>\n",
       "<table border=\"1\" class=\"dataframe\">\n",
       "  <thead>\n",
       "    <tr style=\"text-align: right;\">\n",
       "      <th></th>\n",
       "      <th></th>\n",
       "      <th>tot_sales</th>\n",
       "    </tr>\n",
       "    <tr>\n",
       "      <th>date</th>\n",
       "      <th>date</th>\n",
       "      <th></th>\n",
       "    </tr>\n",
       "  </thead>\n",
       "  <tbody>\n",
       "    <tr>\n",
       "      <th rowspan=\"6\" valign=\"top\">2018</th>\n",
       "      <th>7</th>\n",
       "      <td>165250.80</td>\n",
       "    </tr>\n",
       "    <tr>\n",
       "      <th>8</th>\n",
       "      <td>158046.45</td>\n",
       "    </tr>\n",
       "    <tr>\n",
       "      <th>9</th>\n",
       "      <td>160442.80</td>\n",
       "    </tr>\n",
       "    <tr>\n",
       "      <th>10</th>\n",
       "      <td>164368.50</td>\n",
       "    </tr>\n",
       "    <tr>\n",
       "      <th>11</th>\n",
       "      <td>160196.00</td>\n",
       "    </tr>\n",
       "    <tr>\n",
       "      <th>12</th>\n",
       "      <td>167867.00</td>\n",
       "    </tr>\n",
       "    <tr>\n",
       "      <th rowspan=\"6\" valign=\"top\">2019</th>\n",
       "      <th>1</th>\n",
       "      <td>162642.30</td>\n",
       "    </tr>\n",
       "    <tr>\n",
       "      <th>2</th>\n",
       "      <td>150665.00</td>\n",
       "    </tr>\n",
       "    <tr>\n",
       "      <th>3</th>\n",
       "      <td>166265.20</td>\n",
       "    </tr>\n",
       "    <tr>\n",
       "      <th>4</th>\n",
       "      <td>159845.10</td>\n",
       "    </tr>\n",
       "    <tr>\n",
       "      <th>5</th>\n",
       "      <td>156717.65</td>\n",
       "    </tr>\n",
       "    <tr>\n",
       "      <th>6</th>\n",
       "      <td>160457.50</td>\n",
       "    </tr>\n",
       "  </tbody>\n",
       "</table>\n",
       "</div>"
      ],
      "text/plain": [
       "           tot_sales\n",
       "date date           \n",
       "2018 7     165250.80\n",
       "     8     158046.45\n",
       "     9     160442.80\n",
       "     10    164368.50\n",
       "     11    160196.00\n",
       "     12    167867.00\n",
       "2019 1     162642.30\n",
       "     2     150665.00\n",
       "     3     166265.20\n",
       "     4     159845.10\n",
       "     5     156717.65\n",
       "     6     160457.50"
      ]
     },
     "execution_count": 40,
     "metadata": {},
     "output_type": "execute_result"
    }
   ],
   "source": [
    "agg_month_yr = comb.pivot_table(index=[comb['date'].dt.year, comb['date'].dt.month], values=['tot_sales'], aggfunc='sum')\n",
    "agg_month_yr"
   ]
  },
  {
   "cell_type": "code",
   "execution_count": 41,
   "metadata": {},
   "outputs": [
    {
     "data": {
      "image/png": "[encoded data removed]",
      "text/plain": [
       "<Figure size 1080x432 with 1 Axes>"
      ]
     },
     "metadata": {
      "needs_background": "light"
     },
     "output_type": "display_data"
    }
   ],
   "source": [
    "agg_month_yr.plot(kind='bar', figsize=(15,6));"
   ]
  },
  {
   "cell_type": "markdown",
   "metadata": {},
   "source": [
    "The above graphs has given a pictorial view of our dataset. Store number 2 had the most sales in the period under review. Majority of the buying where from the budget and Mainstream customers. These customers are older or senior citizen of are single while others are not. \n",
    "\n",
    "There isn't much significant difference in the total sales for both years. However there is a trend in the monthly sales\n",
    "The data set start from July 2018 to June 2019. A 12 months periods. Overall the graph shows a sinusoidal curve indicating rises and falls in total sales over the peiod under review. August 2018 was the greatest descrease while Decemeber of the same year saw the most increase in sales. There was a drop in total sales from July to August 2018 and it began to increase sligtly to a peak in October of thesame year. It later rose the following month and started a declined to February 2019. It rose significantly in March of 2019 and dropped from April to May 2019. It however rose to above 160,000 in the last month of the review period. "
   ]
  }
 ],
 "metadata": {
  "kernelspec": {
   "display_name": "Python 3",
   "language": "python",
   "name": "python3"
  },
  "language_info": {
   "codemirror_mode": {
    "name": "ipython",
    "version": 3
   },
   "file_extension": ".py",
   "mimetype": "text/x-python",
   "name": "python",
   "nbconvert_exporter": "python",
   "pygments_lexer": "ipython3",
   "version": "3.7.7"
  }
 },
 "nbformat": 4,
 "nbformat_minor": 4
}
